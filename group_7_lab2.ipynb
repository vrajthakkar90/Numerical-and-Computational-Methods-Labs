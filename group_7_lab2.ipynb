{
  "cells": [
    {
      "cell_type": "markdown",
      "metadata": {
        "id": "ALx4VVfTIKQo"
      },
      "source": [
        "***\n",
        "# Lab 1 - Computer Arithmetic and Bisection Method\n",
        "## January 16 - January 20, 2023\n",
        "## Student 1 Name: Aditya Tanna Student 1 ID No. 202103023\n",
        "## Student 2 Name: Kanishk Dad Student 2 ID No. 202103005\n",
        "## Student 3 Name: Vraj Thakker Student 3 ID No. 202103052\n",
        "## Date of Submission: $\\underline{DD/MM/YY}$\n",
        "***"
      ],
      "id": "ALx4VVfTIKQo"
    },
    {
      "cell_type": "code",
      "execution_count": null,
      "metadata": {
        "collapsed": true,
        "id": "4GxAKeIfIKQs"
      },
      "outputs": [],
      "source": [
        "# import useful libraries\n",
        "import numpy as np\n",
        "import matplotlib.pyplot as plt\n",
        "import math"
      ],
      "id": "4GxAKeIfIKQs"
    },
    {
      "cell_type": "markdown",
      "metadata": {
        "id": "E6zWLYYJIKQt"
      },
      "source": [
        "### Q.1 One particular measure of accuracy of a computer number representation is called the Machine epsilon. If C is the set of all machine numbers, machine epsilon $\\epsilon$ is defined as $\\epsilon = \\min \\{ x ∈ C | ( 1 + x ) − 1 > 0 \\}$"
      ],
      "id": "E6zWLYYJIKQt"
    },
    {
      "cell_type": "markdown",
      "metadata": {
        "id": "AskPbqVpIKQu"
      },
      "source": [
        "### Q.1 (a) Write a function `mymacheps` that computes and prints the machine epsilon as per the above definition.\n",
        "### Q.1 (b) In the definition above, if we replace the integer 1 by any other integer, say $n$, i.e., $\\epsilon = \\min \\{ x ∈ C | ( n + x ) − n > 0 \\}$ will the value of $\\epsilon$ change? Justify your answer with a few examples."
      ],
      "id": "AskPbqVpIKQu"
    },
    {
      "cell_type": "code",
      "execution_count": null,
      "metadata": {
        "id": "qsBzKsUIIKQu",
        "colab": {
          "base_uri": "https://localhost:8080/"
        },
        "outputId": "d45015a0-9bae-4191-828a-dfc6dd87a0fc"
      },
      "outputs": [
        {
          "output_type": "stream",
          "name": "stdout",
          "text": [
            "1\n",
            "2.220446049250313e-16\n"
          ]
        }
      ],
      "source": [
        "def mymacheps():\n",
        "    eps = 2.0\n",
        "    while (1 + eps > 1):\n",
        "        eps = eps / 2\n",
        "    eps = 2 * eps\n",
        "    print(1)\n",
        "    print(eps)\n",
        "\n",
        "mymacheps()"
      ],
      "id": "qsBzKsUIIKQu"
    },
    {
      "cell_type": "markdown",
      "source": [
        "b) If we change the value of n from 1 to any other integer, the value of $\\epsilon$ will change.  "
      ],
      "metadata": {
        "id": "EGZiEE2IXZCg"
      },
      "id": "EGZiEE2IXZCg"
    },
    {
      "cell_type": "code",
      "source": [
        "def mymacheps():\n",
        "    eps = 2.0\n",
        "    n=int(input())\n",
        "    while (n + eps > n):\n",
        "        eps = eps / 2\n",
        "    eps = 2 * eps\n",
        "    print(n)\n",
        "    print(eps)\n",
        "\n",
        "mymacheps()"
      ],
      "metadata": {
        "colab": {
          "base_uri": "https://localhost:8080/"
        },
        "id": "fiE_uh8V9Rjb",
        "outputId": "28741cf8-7f1e-4ae0-9bb9-29244a0c39ae"
      },
      "id": "fiE_uh8V9Rjb",
      "execution_count": null,
      "outputs": [
        {
          "output_type": "stream",
          "name": "stdout",
          "text": [
            "4\n",
            "4\n",
            "8.881784197001252e-16\n"
          ]
        }
      ]
    },
    {
      "cell_type": "markdown",
      "metadata": {
        "id": "qKtdHkcfIKQw"
      },
      "source": [
        "## <font color='red'> Ans 1: Write your observations and comments here <font>\n",
        "## As the value of n increases, the value of the function keeps increasing. At n=0, the value returned is 0. We get the required value at n=1, which is 2.220446049250313e-16. This number, when added to 1, will satisfy the condition of 1+x>1, if we take conditions less than n=1, the condition will not be satisfied  \n",
        "##    \n",
        "##    \n",
        "##    \n",
        "\n",
        "\n"
      ],
      "id": "qKtdHkcfIKQw"
    },
    {
      "cell_type": "markdown",
      "source": [
        "Answer\n",
        "\n",
        "a) For,\n",
        "\n",
        "n=1 \\\\\n",
        "$ϵ$ = 2.220446049250313e-16\n",
        "\n",
        "b)\n",
        "\n",
        "Calculating epsilon for different values\n",
        "\n",
        "n=0.1 \\\\\n",
        "$ϵ$ = 1.3877787807814457e-17\n",
        "\n",
        "0.4 \\\\\n",
        "$ϵ$ = 5.551115123125783e-17\n",
        "\n",
        "2 \\\\\n",
        "$ϵ$ = 4.440892098500626e-16\n",
        "\n",
        "4 \\\\\n",
        "$ϵ$ = 8.881784197001252e-16 \\\\\n",
        "\n",
        "We cannot represent the actual value for most numbers on a computer because of the discretisation into bits. We instead represent the nearest number to the integer which can be formed using floating binary representation. Hence there is an error $\\epsilon$ representing the numbers. We can see a gradual increase in the value of epsilon with increase in the value of n. The representation of x for a machine will be fl(x) = $x(1 + ϵ)$ giving an error of $|xϵ|$. \n",
        "This arises because the exponent number increases with the increase in number which causes the last digit in the mantisa to double, hence everytime exponent increments by 1 the last digit in the mantissa gets doubled. This results in the difference between consequent values of the disceretised numbers to be doubled then the previous value. This will happen until there is further a change in the exponent value. "
      ],
      "metadata": {
        "id": "2RxdIHmC9opu"
      },
      "id": "2RxdIHmC9opu"
    },
    {
      "cell_type": "markdown",
      "metadata": {
        "id": "cGzKkkfWIKQw"
      },
      "source": [
        "***\n",
        "### Q.2 A well know result from trigonometry is $\\sin x = \\pm \\sqrt{1 − \\cos^2 x}$. Using only the function `numpy.cos` , write a function mysin that computes $sin x$ for any input $x$. Do you think this procedure will lead to numerical errors? If yes, why? Can you think of another way to implement this process, given that you must use `numpy.cos` that reduces this error?"
      ],
      "id": "cGzKkkfWIKQw"
    },
    {
      "cell_type": "code",
      "execution_count": 81,
      "metadata": {
        "id": "qW4hWeBQIKQx",
        "outputId": "d8a54bb9-72e3-44f6-806f-3fab2173b757",
        "colab": {
          "base_uri": "https://localhost:8080/",
          "height": 234
        }
      },
      "outputs": [
        {
          "output_type": "error",
          "ename": "NameError",
          "evalue": "ignored",
          "traceback": [
            "\u001b[0;31m---------------------------------------------------------------------------\u001b[0m",
            "\u001b[0;31mNameError\u001b[0m                                 Traceback (most recent call last)",
            "\u001b[0;32m<ipython-input-81-279bfb57e1bf>\u001b[0m in \u001b[0;36m<module>\u001b[0;34m\u001b[0m\n\u001b[1;32m     17\u001b[0m \u001b[0;34m\u001b[0m\u001b[0m\n\u001b[1;32m     18\u001b[0m \u001b[0;34m\u001b[0m\u001b[0m\n\u001b[0;32m---> 19\u001b[0;31m \u001b[0my\u001b[0m \u001b[0;34m=\u001b[0m \u001b[0mnp\u001b[0m\u001b[0;34m.\u001b[0m\u001b[0msin\u001b[0m\u001b[0;34m(\u001b[0m\u001b[0mx\u001b[0m\u001b[0;34m)\u001b[0m \u001b[0;31m#z is the normal sine function\u001b[0m\u001b[0;34m\u001b[0m\u001b[0;34m\u001b[0m\u001b[0m\n\u001b[0m\u001b[1;32m     20\u001b[0m \u001b[0;31m#the two functions here have been defined. mysin1 is sine in terms of cosine whereas mysin2 is the numpy sine function.\u001b[0m\u001b[0;34m\u001b[0m\u001b[0;34m\u001b[0m\u001b[0;34m\u001b[0m\u001b[0m\n\u001b[1;32m     21\u001b[0m \u001b[0;31m#We then plot the graph and check for any errors\u001b[0m\u001b[0;34m\u001b[0m\u001b[0;34m\u001b[0m\u001b[0;34m\u001b[0m\u001b[0m\n",
            "\u001b[0;31mNameError\u001b[0m: name 'x' is not defined"
          ]
        }
      ],
      "source": [
        "# Write functions to obtain approximations to sin x using cos x. If you have more than one way of doing so, \n",
        "# use mysin1(x) and mysin2(x) as function names.\n",
        "import numpy as np\n",
        "import math\n",
        "\n",
        "def mysin1(x):\n",
        "    if x > 0 and x < math.pi: # value of the sine function is positive in this interval\n",
        "        return np.sqrt(1 - (np.cos(x))**2);\n",
        "    else:\n",
        "        return -1*np.sqrt(1 - (np.cos(x))**2);\n",
        "\n",
        "def mysin2(x):\n",
        "    if x > 0 and x < math.pi: # value of the sine function is positive in this interval\n",
        "        return np.sqrt((1- (np.cos(2*x)))/2);\n",
        "    else:\n",
        "        return -1* np.sqrt((1- (np.cos(2*x)))/2);\n",
        "\n",
        "\n",
        "y = np.sin(x) #z is the normal sine function\n",
        "#the two functions here have been defined. mysin1 is sine in terms of cosine whereas mysin2 is the numpy sine function.\n",
        "#We then plot the graph and check for any errors\n"
      ],
      "id": "qW4hWeBQIKQx"
    },
    {
      "cell_type": "code",
      "execution_count": null,
      "metadata": {
        "collapsed": true,
        "id": "7XVT7H2mIKQy"
      },
      "outputs": [],
      "source": [
        "# Evaluate your approximations for sin(x) for x between -pi to +pi with enough number of samples, \n",
        "# say around 500. Plot these values and also plot values of sin(x) obtained through np.sin(x).\n",
        "\n",
        "\n",
        "\n",
        "x = np.linspace(-np.pi , np.pi, 500)\n",
        "\n",
        "err1 = abs(y - [mysin1(e) for e in x])\n",
        "err2 = abs(y - [mysin2(e) for e in x])\n",
        "\n",
        "plt.plot(x, err1, \"r-\")\n",
        "plt.plot(x, err2)\n",
        "plt.yscale('log')\n",
        "plt.ylim(1e-23,1e-13)\n",
        "plt.title(\"Error Comparasion\")\n",
        "plt.show()\n",
        "\n"
      ],
      "id": "7XVT7H2mIKQy"
    },
    {
      "cell_type": "code",
      "execution_count": null,
      "metadata": {
        "collapsed": true,
        "id": "sLzjZoZBIKQy"
      },
      "outputs": [],
      "source": [
        "# Will there be errors in approximations near a particular value of x? If yes, compute and display the errors\n",
        "# here. Show the errors for all approximations that you may have used.\n",
        "\n",
        "\n",
        "\n",
        "\n",
        "\n",
        "\n"
      ],
      "id": "sLzjZoZBIKQy"
    },
    {
      "cell_type": "markdown",
      "metadata": {
        "id": "7mXNw8iCIKQz"
      },
      "source": [
        "## <font color='red'> Ans 2: Write your observations and comments here <font>\n",
        "##    \n",
        "##    \n",
        "##    \n",
        "##    "
      ],
      "id": "7mXNw8iCIKQz"
    },
    {
      "cell_type": "markdown",
      "metadata": {
        "id": "Pb5oPpECIKQz"
      },
      "source": [
        "***\n",
        "### Q.3 Write a function myexpx that computes $exp(x)$ for a given $x \\in [0,1]$ using as few terms of the Taylor series as possible in order to obtain an estimate within $10^{−5}$ of the exact value. You should use the same number of terms for any $x \\in [0,1]$ , and use `numpy.exp` to compute the absolute and relative errors."
      ],
      "id": "Pb5oPpECIKQz"
    },
    {
      "cell_type": "code",
      "execution_count": null,
      "metadata": {
        "collapsed": true,
        "colab": {
          "base_uri": "https://localhost:8080/"
        },
        "id": "e82hY4DaIKQz",
        "outputId": "2813e950-afa0-4052-fe3a-0d71f6f66cfa"
      },
      "outputs": [
        {
          "output_type": "stream",
          "name": "stdout",
          "text": [
            "This is the value calculated using taylor series expansion for 0.1\n",
            "1.1051709180756446\n",
            "This is value calculated using numpy.exp for 0.1\n",
            "1.1051709180756477\n",
            "This is the Absolute error in the two values for 0.1\n",
            "3.1086244689504383e-15\n",
            "This is the Relative error between the values for 0.1\n",
            "3.108624468950438e-14\n",
            "-----------------------------------------\n",
            "This is the value calculated using taylor series expansion for 0.4\n",
            "1.4918246968888886\n",
            "This is value calculated using numpy.exp for 0.4\n",
            "1.4918246976412703\n",
            "This is the Absolute error in the two values for 0.4\n",
            "7.523817124877041e-10\n",
            "This is the Relative error between the values for 0.4\n",
            "1.8809542812192603e-09\n",
            "-----------------------------------------\n",
            "This is the value calculated using taylor series expansion for 0.7\n",
            "2.0137525879565974\n",
            "This is value calculated using numpy.exp for 0.7\n",
            "2.0137527074704766\n",
            "This is the Absolute error in the two values for 0.7\n",
            "1.1951387923758716e-07\n",
            "This is the Relative error between the values for 0.7\n",
            "1.707341131965531e-07\n",
            "-----------------------------------------\n"
          ]
        }
      ],
      "source": [
        "# Write your function to compute an approximation to Exponential of x \\in [0,1] \n",
        "# using Taylor series approximation below\n",
        "import numpy as np\n",
        "import matplotlib.pyplot as plt\n",
        "import math\n",
        "def myexpx(n):\n",
        "    ex = 0\n",
        "    for i in range(9):\n",
        "        ex += n**i/math.factorial(i)\n",
        "    \n",
        "    return ex\n",
        "i=0.1\n",
        "while i<1.0 :\n",
        "  out = myexpx(i)\n",
        "  print(\"This is the value calculated using taylor series expansion for\",i)\n",
        "  print(out)\n",
        "  print(\"This is value calculated using numpy.exp for\",i)\n",
        "  out_1=np.exp(i)\n",
        "  print(out_1)\n",
        "  print(\"This is the Absolute error in the two values for\",i)\n",
        "  m=out_1-out\n",
        "  print(m)\n",
        "  print(\"This is the Relative error between the values for\",i)\n",
        "  print(m/i)\n",
        "  print(\"-----------------------------------------\")\n",
        "  i+=0.3"
      ],
      "id": "e82hY4DaIKQz"
    },
    {
      "cell_type": "markdown",
      "metadata": {
        "id": "Md5hJ0kqIKQ0"
      },
      "source": [
        "## <font color='red'> Ans 3: Write your observations and comments here <font>\n",
        "##    \n",
        "##    \n",
        "##    \n",
        "##    \n",
        "Values obtained by taylor series expansion which are precise upto 5 decimal places will obtain a result within $10^{-5}$ of the exact value.\n",
        "hence for calculating the value precisely we need to use the taylor series expansion upto $9^{th}$ term. Then we know that the absolute error will be the difference between the two obtained value and the relative error will be $\\frac{|(absolute-error)|}{|x|}$ . So for the above problem I have calculated the value of $e^x$ for [0.1,0.4,0.7] by both methods and noted the absolute and relative errors in both cases.\n"
      ],
      "id": "Md5hJ0kqIKQ0"
    },
    {
      "cell_type": "markdown",
      "metadata": {
        "id": "slbBL59NIKQ0"
      },
      "source": [
        "***\n",
        "### Q.4 Write a function mysquareroot that takes in a non-negative number $p$ and an absolute error threshold $\\epsilon$, and outputs an estimate of $\\sqrt{p}$ within an error $\\epsilon$ using the Bisection method. Your function should include the computation of the number of required iterations and that of the initial range $[a_0,b_0]$ that includes $p$ (of course without explicitly computing $\\sqrt{p}$). The initial range $[a_0,b_0]$ need not be small, but should satisfy the assumption of the Bisection method. Plot the absolute and relative error for all iterations as well, and plot the ratio $\\frac{|c_{n+1} − \\sqrt{p}|}{|c_n − \\sqrt{p}|}$ against n."
      ],
      "id": "slbBL59NIKQ0"
    },
    {
      "cell_type": "markdown",
      "metadata": {
        "id": "j1INMEJmIKQ0"
      },
      "source": [
        "## <font color='red'> Ans 4: Explain how do you set the initial range here  <font>\n",
        "##  <font color='yellow'> Initial range for the question is set different for number \"> 1\" and \"< 1\" as for the numbers \">1\" the square root is always smaller than the number itself and so we set the initial range for them as [1,p]\n",
        "##  <font color='white'> Initial range for the numbers \"<1\" the square root is always greater than the number itself as when we square the number decreases and so we set the initial range for them as [p,1].\n",
        "## \n",
        "##   \n",
        "##        \n",
        "    \n",
        "    \n",
        "    \n",
        "    "
      ],
      "id": "j1INMEJmIKQ0"
    },
    {
      "cell_type": "code",
      "execution_count": 80,
      "metadata": {
        "collapsed": true,
        "id": "5O0GfPt1IKQ1",
        "colab": {
          "base_uri": "https://localhost:8080/",
          "height": 1000
        },
        "outputId": "6ad9ebae-e1ce-461b-e5a9-cb8e80dff6c1"
      },
      "outputs": [
        {
          "output_type": "stream",
          "name": "stdout",
          "text": [
            "25\n",
            "0.00000000000000000000000000001\n",
            "iteration_no = 1     hi= 13.0   low= 1    z= 144.0    y= 7.0    range= 12.0\n",
            "iteration_no = 2     hi= 7.0   low= 1    z= 24.0    y= 4.0    range= 6.0\n",
            "iteration_no = 3     hi= 7.0   low= 4.0    z= -9.0    y= 5.5    range= 3.0\n",
            "iteration_no = 4     hi= 5.5   low= 4.0    z= 5.25    y= 4.75    range= 1.5\n",
            "iteration_no = 5     hi= 5.5   low= 4.75    z= -2.4375    y= 5.125    range= 0.75\n",
            "iteration_no = 6     hi= 5.125   low= 4.75    z= 1.265625    y= 4.9375    range= 0.375\n",
            "iteration_no = 7     hi= 5.125   low= 4.9375    z= -0.62109375    y= 5.03125    range= 0.1875\n",
            "iteration_no = 8     hi= 5.03125   low= 4.9375    z= 0.3134765625    y= 4.984375    range= 0.09375\n",
            "iteration_no = 9     hi= 5.03125   low= 4.984375    z= -0.156005859375    y= 5.0078125    range= 0.046875\n",
            "iteration_no = 10     hi= 5.0078125   low= 4.984375    z= 0.07818603515625    y= 4.99609375    range= 0.0234375\n",
            "iteration_no = 11     hi= 5.0078125   low= 4.99609375    z= -0.0390472412109375    y= 5.001953125    range= 0.01171875\n",
            "iteration_no = 12     hi= 5.001953125   low= 4.99609375    z= 0.019535064697265625    y= 4.9990234375    range= 0.005859375\n",
            "iteration_no = 13     hi= 5.001953125   low= 4.9990234375    z= -0.009764671325683594    y= 5.00048828125    range= 0.0029296875\n",
            "iteration_no = 14     hi= 5.00048828125   low= 4.9990234375    z= 0.0048830509185791016    y= 4.999755859375    range= 0.00146484375\n",
            "iteration_no = 15     hi= 5.00048828125   low= 4.999755859375    z= -0.0024413466453552246    y= 5.0001220703125    range= 0.000732421875\n",
            "iteration_no = 16     hi= 5.0001220703125   low= 4.999755859375    z= 0.0012207180261611938    y= 4.99993896484375    range= 0.0003662109375\n",
            "iteration_no = 17     hi= 5.0001220703125   low= 4.99993896484375    z= -0.0006103478372097015    y= 5.000030517578125    range= 0.00018310546875\n",
            "iteration_no = 18     hi= 5.000030517578125   low= 4.99993896484375    z= 0.0003051767125725746    y= 4.9999847412109375    range= 9.1552734375e-05\n",
            "iteration_no = 19     hi= 5.000030517578125   low= 4.9999847412109375    z= -0.00015258765779435635    y= 5.000007629394531    range= 4.57763671875e-05\n",
            "iteration_no = 20     hi= 5.000007629394531   low= 4.9999847412109375    z= 7.629400352016091e-05    y= 4.999996185302734    range= 2.288818359375e-05\n",
            "iteration_no = 21     hi= 5.000007629394531   low= 4.999996185302734    z= -3.814695810433477e-05    y= 5.000001907348633    range= 1.1444091796875e-05\n",
            "iteration_no = 22     hi= 5.000001907348633   low= 4.999996185302734    z= 1.9073489966103807e-05    y= 4.999999046325684    range= 5.7220458984375e-06\n",
            "iteration_no = 23     hi= 5.000001907348633   low= 4.999999046325684    z= -9.536742254567798e-06    y= 5.000000476837158    range= 2.86102294921875e-06\n",
            "iteration_no = 24     hi= 5.000000476837158   low= 4.999999046325684    z= 4.7683718094049254e-06    y= 4.999999761581421    range= 1.430511474609375e-06\n",
            "iteration_no = 25     hi= 5.000000476837158   low= 4.999999761581421    z= -2.384185734172206e-06    y= 5.0000001192092896    range= 7.152557373046875e-07\n",
            "iteration_no = 26     hi= 5.0000001192092896   low= 4.999999761581421    z= 1.1920929097186672e-06    y= 4.999999940395355    range= 3.5762786865234375e-07\n",
            "iteration_no = 27     hi= 5.0000001192092896   low= 4.999999940395355    z= -5.960464442011926e-07    y= 5.000000029802322    range= 1.7881393432617188e-07\n",
            "iteration_no = 28     hi= 5.000000029802322   low= 4.999999940395355    z= 2.980232238769531e-07    y= 4.999999985098839    range= 8.940696716308594e-08\n",
            "iteration_no = 29     hi= 5.000000029802322   low= 4.999999985098839    z= -1.4901161193847656e-07    y= 5.000000007450581    range= 4.470348358154297e-08\n",
            "iteration_no = 30     hi= 5.000000007450581   low= 4.999999985098839    z= 7.450580596923828e-08    y= 4.99999999627471    range= 2.2351741790771484e-08\n",
            "iteration_no = 31     hi= 5.000000007450581   low= 4.99999999627471    z= -3.725290298461914e-08    y= 5.000000001862645    range= 1.1175870895385742e-08\n",
            "iteration_no = 32     hi= 5.000000001862645   low= 4.99999999627471    z= 1.862645149230957e-08    y= 4.999999999068677    range= 5.587935447692871e-09\n",
            "iteration_no = 33     hi= 5.000000001862645   low= 4.999999999068677    z= -9.313225746154785e-09    y= 5.000000000465661    range= 2.7939677238464355e-09\n",
            "iteration_no = 34     hi= 5.000000000465661   low= 4.999999999068677    z= 4.6566128730773926e-09    y= 4.999999999767169    range= 1.3969838619232178e-09\n",
            "iteration_no = 35     hi= 5.000000000465661   low= 4.999999999767169    z= -2.3283064365386963e-09    y= 5.000000000116415    range= 6.984919309616089e-10\n",
            "iteration_no = 36     hi= 5.000000000116415   low= 4.999999999767169    z= 1.1641532182693481e-09    y= 4.999999999941792    range= 3.4924596548080444e-10\n",
            "iteration_no = 37     hi= 5.000000000116415   low= 4.999999999941792    z= -5.820766091346741e-10    y= 5.000000000029104    range= 1.7462298274040222e-10\n",
            "iteration_no = 38     hi= 5.000000000029104   low= 4.999999999941792    z= 2.9103830456733704e-10    y= 4.999999999985448    range= 8.731149137020111e-11\n",
            "iteration_no = 39     hi= 5.000000000029104   low= 4.999999999985448    z= -1.4551915228366852e-10    y= 5.000000000007276    range= 4.3655745685100555e-11\n",
            "iteration_no = 40     hi= 5.000000000007276   low= 4.999999999985448    z= 7.275957614183426e-11    y= 4.999999999996362    range= 2.1827872842550278e-11\n",
            "iteration_no = 41     hi= 5.000000000007276   low= 4.999999999996362    z= -3.637978807091713e-11    y= 5.000000000001819    range= 1.0913936421275139e-11\n",
            "iteration_no = 42     hi= 5.000000000001819   low= 4.999999999996362    z= 1.8189894035458565e-11    y= 4.9999999999990905    range= 5.4569682106375694e-12\n",
            "iteration_no = 43     hi= 5.000000000001819   low= 4.9999999999990905    z= -9.094947017729282e-12    y= 5.000000000000455    range= 2.7284841053187847e-12\n",
            "iteration_no = 44     hi= 5.000000000000455   low= 4.9999999999990905    z= 4.547473508864641e-12    y= 4.999999999999773    range= 1.3642420526593924e-12\n",
            "iteration_no = 45     hi= 5.000000000000455   low= 4.999999999999773    z= -2.2737367544323206e-12    y= 5.000000000000114    range= 6.821210263296962e-13\n",
            "iteration_no = 46     hi= 5.000000000000114   low= 4.999999999999773    z= 1.1368683772161603e-12    y= 4.999999999999943    range= 3.410605131648481e-13\n",
            "iteration_no = 47     hi= 5.000000000000114   low= 4.999999999999943    z= -5.684341886080801e-13    y= 5.000000000000028    range= 1.7053025658242404e-13\n",
            "iteration_no = 48     hi= 5.000000000000028   low= 4.999999999999943    z= 2.8421709430404007e-13    y= 4.999999999999986    range= 8.526512829121202e-14\n",
            "iteration_no = 49     hi= 5.000000000000028   low= 4.999999999999986    z= -1.4210854715202004e-13    y= 5.000000000000007    range= 4.263256414560601e-14\n",
            "iteration_no = 50     hi= 5.000000000000007   low= 4.999999999999986    z= 7.105427357601002e-14    y= 4.9999999999999964    range= 2.1316282072803006e-14\n",
            "iteration_no = 51     hi= 5.000000000000007   low= 4.9999999999999964    z= -3.552713678800501e-14    y= 5.000000000000002    range= 1.0658141036401503e-14\n",
            "iteration_no = 52     hi= 5.000000000000002   low= 4.9999999999999964    z= 1.7763568394002505e-14    y= 4.999999999999999    range= 5.329070518200751e-15\n",
            "iteration_no = 53     hi= 5.000000000000002   low= 4.999999999999999    z= -7.105427357601002e-15    y= 5.0    range= 2.6645352591003757e-15\n",
            "iteration_no = 54     hi= 5.0   low= 5.0    z= 0.0    y= 5.0    range= 0.0\n"
          ]
        },
        {
          "output_type": "execute_result",
          "data": {
            "text/plain": [
              "[<matplotlib.lines.Line2D at 0x7ff06a8c8970>]"
            ]
          },
          "metadata": {},
          "execution_count": 80
        },
        {
          "output_type": "display_data",
          "data": {
            "text/plain": [
              "<Figure size 432x288 with 1 Axes>"
            ],
            "image/png": "[encoded data removed]"
          },
          "metadata": {
            "needs_background": "light"
          }
        }
      ],
      "source": [
        "def mysqrt(p,eps):\n",
        "\n",
        "    if( p >1 ):\n",
        "        hi,low,number_of_iteration= p,1,0\n",
        "    else:\n",
        "        hi,low,number_of_iteration = 1,p,0\n",
        "\n",
        "\n",
        "# for p > 1\n",
        "    # As z_low = 1-p (-ve) and z_hi = p**2-p (+ve)\n",
        "# for p < 1\n",
        "    # As z_low = p**2-p (-ve) and z_hi = 1-p(+ve)\n",
        "\n",
        "# and in both the cases (z_lo)*(z_hi)<0\n",
        "\n",
        "    iteration_no = []\n",
        "    difference = []\n",
        "    y = (hi + low)/2;\n",
        "    z = y**2 - p;\n",
        "# z =({1-p}/2)**2 \n",
        "\n",
        "    while (abs(z) > eps):\n",
        "        z = y ** 2 - p;\n",
        "        number_of_iteration+=1\n",
        "        if(z>0):  # as z_lo is -ve and z_y i.e.(z_({1+p}/2) is+ve so -ve * +ve < 0\n",
        "            hi = y\n",
        "        elif(z<0):     # as z_lo is -ve and z_y i.e.(z_({1+p}/2) is-ve so -ve * -ve > 0\n",
        "            low = y\n",
        "        else:\n",
        "          hi=low=y\n",
        "# as z is +ve initially always so hi is always set to (hi + low)/2 in the very first iteration.\n",
        "\n",
        "        y = (hi + low) / 2;\n",
        "        range= hi-low;\n",
        "        iteration_no = np.append(iteration_no,number_of_iteration)\n",
        "        difference = np.append(difference,y)\n",
        "\n",
        "        print('iteration_no =', number_of_iteration, '    hi=',hi, '  low=',low,'   z=',z,'   y=',y,'   range=',range)\n",
        "    return y,number_of_iteration,difference,iteration_no\n",
        "\n",
        "p = float(input())\n",
        "eps = float(input())\n",
        "\n",
        "y,number_of_iteration,difference,iteration_no = mysqrt(p,eps)\n",
        "# diff = np.abs(y-difference)\n",
        "plt.plot(iteration_no, difference, color='r' )\n",
        "\n",
        "\n"
      ],
      "id": "5O0GfPt1IKQ1"
    },
    {
      "cell_type": "code",
      "execution_count": null,
      "metadata": {
        "collapsed": true,
        "id": "VumdCM9MIKQ1"
      },
      "outputs": [],
      "source": [
        "# Perform error computations, and computations required for convergence analysis for a few examples here\n",
        "\n",
        "\n",
        "\n",
        "\n",
        "\n",
        "\n",
        "\n",
        "\n"
      ],
      "id": "VumdCM9MIKQ1"
    },
    {
      "cell_type": "markdown",
      "metadata": {
        "id": "8OMG9oaCIKQ1"
      },
      "source": [
        "## <font color='red'> Ans 4: Record your observations, and add your comments here  <font>\n",
        "##    \n",
        "##    \n",
        "##    \n",
        "##        \n",
        "    \n",
        "    \n",
        "    \n",
        "    "
      ],
      "id": "8OMG9oaCIKQ1"
    }
  ],
  "metadata": {
    "kernelspec": {
      "display_name": "Python 3",
      "language": "python",
      "name": "python3"
    },
    "language_info": {
      "codemirror_mode": {
        "name": "ipython",
        "version": 3
      },
      "file_extension": ".py",
      "mimetype": "text/x-python",
      "name": "python",
      "nbconvert_exporter": "python",
      "pygments_lexer": "ipython3",
      "version": "3.6.3"
    },
    "varInspector": {
      "cols": {
        "lenName": 16,
        "lenType": 16,
        "lenVar": 40
      },
      "kernels_config": {
        "python": {
          "delete_cmd_postfix": "",
          "delete_cmd_prefix": "del ",
          "library": "var_list.py",
          "varRefreshCmd": "print(var_dic_list())"
        },
        "r": {
          "delete_cmd_postfix": ") ",
          "delete_cmd_prefix": "rm(",
          "library": "var_list.r",
          "varRefreshCmd": "cat(var_dic_list()) "
        }
      },
      "types_to_exclude": [
        "module",
        "function",
        "builtin_function_or_method",
        "instance",
        "_Feature"
      ],
      "window_display": false
    },
    "colab": {
      "provenance": [],
      "collapsed_sections": [
        "E6zWLYYJIKQt",
        "cGzKkkfWIKQw",
        "slbBL59NIKQ0",
        "8OMG9oaCIKQ1"
      ]
    }
  },
  "nbformat": 4,
  "nbformat_minor": 5
}