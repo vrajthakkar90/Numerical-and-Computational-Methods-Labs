{
  "cells": [
    {
      "cell_type": "markdown",
      "id": "02f30203",
      "metadata": {
        "id": "02f30203"
      },
      "source": [
        "# Lab 8 - Iterative Methods for Linear Systems\n",
        "## April 10 - April 12, 2023\n",
        "## Student 1 Name: $\\underline{KANISHK \\ DAD\\hspace{3in}}$ Student 1 ID No. $\\underline{202103005\\hspace{1.5in}}$\n",
        "## Student 2 Name: $\\underline{ADITYA \\ \\ TANNA\\hspace{3in}}$ Student 2 ID No. $\\underline{202103023\\hspace{1.5in}}$\n",
        "## Student 3 Name: $\\underline{VRAJ THAKKAR\\hspace{3in}}$ Student 3 ID No. $\\underline{202103052\\hspace{1.5in}}$\n",
        "## Date of Submission: $\\underline{12/04/23}$\n",
        "***"
      ]
    },
    {
      "cell_type": "code",
      "execution_count": 144,
      "id": "80cd8e82",
      "metadata": {
        "id": "80cd8e82"
      },
      "outputs": [],
      "source": [
        "# import useful libraries\n",
        "import numpy as np\n",
        "import matplotlib.pyplot as plt\n",
        "import math\n",
        "epsilon  = .00000000000000000001"
      ]
    },
    {
      "cell_type": "code",
      "source": [
        "# A = [[144,12,2],\n",
        "#      [8,64,1],\n",
        "#      [5,1,2]]\n",
        "# Y = [[280.2],\n",
        "#      [177.2],\n",
        "#      [106.8]]\n",
        "\n",
        "\n",
        "A = [[12, 5, 2, 4],[3, 10, 4, 2],[3, 4, 10, 2],[1, 2, 3, 7]]\n",
        "Y = [[3],\n",
        "     [5],\n",
        "     [4],\n",
        "     [1]]\n",
        "    \n",
        "\n",
        "x_for_list = np.linalg.solve(A,Y)\n",
        "print(x_for_list)"
      ],
      "metadata": {
        "colab": {
          "base_uri": "https://localhost:8080/"
        },
        "id": "I2P9UntNRRzn",
        "outputId": "ee5d1c61-0eab-44ce-c317-316f3ea449e0"
      },
      "id": "I2P9UntNRRzn",
      "execution_count": 153,
      "outputs": [
        {
          "output_type": "stream",
          "name": "stdout",
          "text": [
            "[[ 0.07119741]\n",
            " [ 0.4012945 ]\n",
            " [ 0.23462783]\n",
            " [-0.08252427]]\n"
          ]
        }
      ]
    },
    {
      "cell_type": "markdown",
      "id": "90c5afe0",
      "metadata": {
        "id": "90c5afe0"
      },
      "source": [
        "### Q.1 Write a function `myfwdsubstituion` that takes in an lower triangular matrix  $L \\in \\mathbb{R}^{n \\times n}$, a vector $b \\in \\mathbb{R}^{n \\times 1}$ and returns the solution $x$ of $Lx = b$ obtained by forward substitution."
      ]
    },
    {
      "cell_type": "code",
      "execution_count": 154,
      "id": "801cad2c",
      "metadata": {
        "id": "801cad2c"
      },
      "outputs": [],
      "source": [
        "def myfwdsubstitution(P,b):\n",
        "    n = len(P)\n",
        "    x = np.zeros((n, 1))\n",
        "    sum_L = 0 \n",
        "    for i in range(n):\n",
        "        sum_L = 0\n",
        "        for j in range(i):\n",
        "            sum_L = sum_L + P[i][j]*x[j]\n",
        "        x[i] = (b[i]-sum_L)/P[i][i]\n",
        "    return x"
      ]
    },
    {
      "cell_type": "markdown",
      "id": "9f415543",
      "metadata": {
        "id": "9f415543"
      },
      "source": [
        "***\n",
        "### Q.2 Write a function `myGS` that solves a linear system of equations iteratively using the Gauss-Seidel method using the function `myfwsubstitution` written above. The function accepts the matrix $A \\in \\mathbb{R}^{n \\times n}$, the vector $b \\in \\mathbb{R}^n$, and returns the solution to $Ax=b$. The stopping criteria could be to check $\\frac{||x_{k+1}-x_k||}{||x_k||+\\epsilon}$, where $\\epsilon$ is a small number that ensures that the denominator does not go to zero."
      ]
    },
    {
      "cell_type": "code",
      "execution_count": 155,
      "id": "cba83895",
      "metadata": {
        "id": "cba83895"
      },
      "outputs": [],
      "source": [
        "def myGS(A,Y):\n",
        "    n = len(A)\n",
        "    ddm  = np.zeros((n,1))\n",
        "    for i in range(n):\n",
        "        for j in range(n):\n",
        "            ddm[i]= ddm[i] + abs(A[i][j])\n",
        "        ddm[i]= ddm[i] - 2*abs(A[i][i])\n",
        "    print('criteria to check diagonally dominant matrix = ',ddm)\n",
        "\n",
        "    U = np.zeros((n, n))\n",
        "    L = np.zeros((n, n))\n",
        "    D = np.zeros((n, n))\n",
        "#function to calculate lower triangular matrix\n",
        "    def L_of_A(A):\n",
        "        for i in range(n):\n",
        "            for j in range(i):\n",
        "                L[i][j]= A[i][j]\n",
        "        return L\n",
        "\n",
        "#function to calculate lower triangular matrix\n",
        "    def D_of_A(A):\n",
        "        for i in range(n):\n",
        "                D[i][i]= A[i][i]\n",
        "        return D\n",
        "    \n",
        "#function to calculate upper triangular matrix\n",
        "    def U_of_A(A):\n",
        "        for i in range(n):\n",
        "            for j in range(i+1,n):\n",
        "                U[i][j]= -A[i][j]\n",
        "        return U\n",
        "#calculating P and Q\n",
        "    P = L_of_A(A) + D_of_A(A)\n",
        "    Q = U_of_A(A)\n",
        "\n",
        "    # P*X = Q*Xo +b        \"gauss seidel formula\"\n",
        "    Xn = np.zeros((n, 1))\n",
        "    error = Xo = np.ones((n,1))\n",
        "    Iteration = 0\n",
        "    condition = True\n",
        "    while (condition):\n",
        "        b= Q @ Xo+ Y\n",
        "# Using the function myfwsubstitution(A,b)\n",
        "        Xn = myfwdsubstitution(P,b)\n",
        "        # print(Xo)\n",
        "        # print(Xn)\n",
        "        # print(error)\n",
        "\n",
        "# stopping criteria\n",
        "        error = Xn - Xo\n",
        "        ddm  = np.zeros((n,1))\n",
        "        for i in range(n):\n",
        "            ddm[i]= ddm[i] + abs(error[i])\n",
        "        for i in range(n):\n",
        "            if ((max(ddm)/(max(Xo)+epsilon)) < epsilon):\n",
        "                condition = False\n",
        "# another stopping criteria\n",
        "\n",
        "        # error = Xn - Xo\n",
        "        # e =[1,1,1,1]\n",
        "        # for i in range(n):\n",
        "        #     e[i] = Xn[i] - Xo[i]\n",
        "        #     if (abs(e[i]) < epsilon):\n",
        "        #         condition = False\n",
        "\n",
        "        Xo = Xn\n",
        "        Iteration += 1\n",
        "    print(Xn,Iteration)\n",
        "    return Xn,Iteration"
      ]
    },
    {
      "cell_type": "code",
      "source": [
        "Xn,Iteration = myGS(A,Y)\n",
        "# print(\"solution matrix\", Xn)\n",
        "# print(\"No. of Iteration required = \",Iteration)"
      ],
      "metadata": {
        "colab": {
          "base_uri": "https://localhost:8080/"
        },
        "id": "-QG9ZYQ1Q-OX",
        "outputId": "8677e64f-f87d-4879-eca8-adf1c47b6912"
      },
      "id": "-QG9ZYQ1Q-OX",
      "execution_count": 156,
      "outputs": [
        {
          "output_type": "stream",
          "name": "stdout",
          "text": [
            "criteria to check diagonally dominant matrix =  [[-1.]\n",
            " [-1.]\n",
            " [-1.]\n",
            " [-1.]]\n",
            "[[ 0.07119741]\n",
            " [ 0.4012945 ]\n",
            " [ 0.23462783]\n",
            " [-0.08252427]] 30\n"
          ]
        }
      ]
    },
    {
      "cell_type": "markdown",
      "id": "2c5d314f",
      "metadata": {
        "id": "2c5d314f"
      },
      "source": [
        "***\n",
        "### Q.3 Write a function `myJacobi` that solves a linear system of equations iteratively using the Jacobi method. The function accepts the matrix $A \\in \\mathbb{R}^{n \\times n}$, the vector $b \\in \\mathbb{R}^n$, and returns the solution to $Ax=b$. The stopping criteria could be to check $\\frac{||x_{k+1}-x_k||}{||x_k||+\\epsilon}$, where $\\epsilon$ is a small number that ensures that the denominator does not go to zero."
      ]
    },
    {
      "cell_type": "code",
      "source": [
        "\n",
        "# A = np.array([[144,12,2],[8,64,1],[5,1,2]])\n",
        "# Y = np.array([[280.2],[177.2],[106.8]])\n",
        "\n",
        "A = np.array([[12, 5, 2, 4],[3, 10, 4, 2],[3, 4, 10, 2],[1, 2, 3, 7]])\n",
        "Y = np.array([[3],[5],[4],[1]])\n",
        "\n",
        "\n",
        "x = np.linalg.solve(A,Y)\n",
        "print(x)"
      ],
      "metadata": {
        "colab": {
          "base_uri": "https://localhost:8080/"
        },
        "id": "ly0sd1cnb4pb",
        "outputId": "be3f8d4c-c68f-44c9-c36b-8d5d2aeddd23"
      },
      "id": "ly0sd1cnb4pb",
      "execution_count": 161,
      "outputs": [
        {
          "output_type": "stream",
          "name": "stdout",
          "text": [
            "[[ 0.07119741]\n",
            " [ 0.4012945 ]\n",
            " [ 0.23462783]\n",
            " [-0.08252427]]\n"
          ]
        }
      ]
    },
    {
      "cell_type": "code",
      "execution_count": 162,
      "id": "ffbc30a6",
      "metadata": {
        "id": "ffbc30a6"
      },
      "outputs": [],
      "source": [
        "\n",
        "def myJacobi(A, b):\n",
        "    epsilon=1e-10\n",
        "    max_iterations=1000\n",
        "    n = A.shape[0]\n",
        "    x = np.zeros(n)\n",
        "    x_next = np.zeros(n)\n",
        "    for i in range(max_iterations):\n",
        "        for j in range(n):\n",
        "            s = 0\n",
        "            for k in range(n):\n",
        "                if k != j:\n",
        "                    s += A[j, k] * x[k]\n",
        "            x_next[j] = (b[j] - s) / A[j, j]\n",
        "        if np.linalg.norm(x_next - x) / (np.linalg.norm(x) + epsilon) < epsilon:\n",
        "            break\n",
        "        \n",
        "        x = x_next.copy()\n",
        "    return x,i"
      ]
    },
    {
      "cell_type": "code",
      "source": [
        "Xn1, Iteration1 = myJacobi(A,Y)\n",
        "print(Xn1,Iteration1)"
      ],
      "metadata": {
        "colab": {
          "base_uri": "https://localhost:8080/"
        },
        "id": "SGBBlimtatyl",
        "outputId": "1a4e210f-85f0-465d-a680-95848cf60cd6"
      },
      "id": "SGBBlimtatyl",
      "execution_count": 163,
      "outputs": [
        {
          "output_type": "stream",
          "name": "stdout",
          "text": [
            "[ 0.07119741  0.4012945   0.23462783 -0.08252427] 211\n"
          ]
        }
      ]
    },
    {
      "cell_type": "markdown",
      "id": "9183e95a",
      "metadata": {
        "id": "9183e95a"
      },
      "source": [
        "***\n",
        "### Q.4 Construct a few matrices that are diagonally dominant, for eg: $A = \\left[\\begin{array}{ccccc}\n",
        "5 & -1 & 0 & \\ldots & -1 \\\\\n",
        "-1 & 5 & -1 & \\ldots & 0 \\\\\n",
        "\\vdots & \\vdots & \\vdots & \\ldots & \\vdots \\\\\n",
        "0 & 0 & 0 & \\ldots & 5\n",
        "\\end{array}\\right]$ and vectors $b$, and solve the sytem $Ax=b$ using `myGS`,`myJacobi`, and `np.linalg.solve`. Compare the solutions, iterations and the time taken to solve the system. Also note the error in the solution, assuming that the `numpy.linalg.solve` produces the true solution"
      ]
    },
    {
      "cell_type": "code",
      "execution_count": 164,
      "id": "c04edd37",
      "metadata": {
        "id": "c04edd37",
        "colab": {
          "base_uri": "https://localhost:8080/"
        },
        "outputId": "a58a2f38-38d6-4e92-8eaa-99657875476a"
      },
      "outputs": [
        {
          "output_type": "stream",
          "name": "stdout",
          "text": [
            "max_error_in_GS = [5.55111512e-17]\n",
            "Iteration_in_GS= 30 \n",
            "\n",
            "0.23462783172684923\n",
            "[0.23462783]\n",
            "Iteration_in_Jacobi= 211\n"
          ]
        }
      ],
      "source": [
        "\n",
        "### Construct examples of A,b and solve using the three methods mentioned above. \n",
        "### Compare the solutions obtained.\n",
        "\n",
        "error_in_GS = Xn - x_for_list\n",
        "no_of_iteration_in_GS = Iteration \n",
        "print('max_error_in_GS =',max(abs(error_in_GS)))\n",
        "print('Iteration_in_GS=',Iteration,'\\n')\n",
        "\n",
        "# error_in_Jacobi = Xn1 - x\n",
        "# print(error_in_Jacobi)\n",
        "no_of_iteration_in_Jacobi = Iteration1\n",
        "print(Xn1[2])\n",
        "print(x[2])\n",
        "# k=max(abs(error_in_Jacobi))\n",
        "# print('error_in_Jacobi =',k)\n",
        "print('Iteration_in_Jacobi=',Iteration1)"
      ]
    },
    {
      "cell_type": "code",
      "source": [],
      "metadata": {
        "id": "74uc_iealxtV"
      },
      "id": "74uc_iealxtV",
      "execution_count": 152,
      "outputs": []
    }
  ],
  "metadata": {
    "kernelspec": {
      "display_name": "Python 3",
      "language": "python",
      "name": "python3"
    },
    "language_info": {
      "codemirror_mode": {
        "name": "ipython",
        "version": 3
      },
      "file_extension": ".py",
      "mimetype": "text/x-python",
      "name": "python",
      "nbconvert_exporter": "python",
      "pygments_lexer": "ipython3",
      "version": "3.8.8"
    },
    "varInspector": {
      "cols": {
        "lenName": 16,
        "lenType": 16,
        "lenVar": 40
      },
      "kernels_config": {
        "python": {
          "delete_cmd_postfix": "",
          "delete_cmd_prefix": "del ",
          "library": "var_list.py",
          "varRefreshCmd": "print(var_dic_list())"
        },
        "r": {
          "delete_cmd_postfix": ") ",
          "delete_cmd_prefix": "rm(",
          "library": "var_list.r",
          "varRefreshCmd": "cat(var_dic_list()) "
        }
      },
      "types_to_exclude": [
        "module",
        "function",
        "builtin_function_or_method",
        "instance",
        "_Feature"
      ],
      "window_display": false
    },
    "colab": {
      "provenance": []
    }
  },
  "nbformat": 4,
  "nbformat_minor": 5
}