{
  "cells": [
    {
      "attachments": {},
      "cell_type": "markdown",
      "id": "02f30203",
      "metadata": {
        "id": "02f30203"
      },
      "source": [
        "# Lab 7 - Cubic Splines\n",
        "## April 3 - April 5, 2023\n",
        "## Student 1 Name: $\\underline{KANISHK DAD\\hspace{3in}}$ Student 1 ID No. $\\underline{202103005\\hspace{1.5in}}$\n",
        "## Student 2 Name: $\\underline{ADITYA TANNA\\hspace{3in}}$ Student 2 ID No. $\\underline{202103023\\hspace{1.5in}}$\n",
        "## Student 3 Name: $\\underline{VRAJ THAKKAR\\hspace{3in}}$ Student 3 ID No. $\\underline{202103052\\hspace{1.5in}}$\n",
        "## Date of Submission: $\\underline{05/04/23}$\n",
        "***"
      ]
    },
    {
      "cell_type": "code",
      "execution_count": 4,
      "id": "80cd8e82",
      "metadata": {
        "id": "80cd8e82"
      },
      "outputs": [],
      "source": [
        "# import useful libraries\n",
        "import numpy as np\n",
        "import matplotlib.pyplot as plt\n",
        "import math"
      ]
    },
    {
      "cell_type": "markdown",
      "id": "90c5afe0",
      "metadata": {
        "id": "90c5afe0"
      },
      "source": [
        "### Q.1 Write a function `myUL` that takes in a matrix  $A \\in \\mathbb{R}^{n \\times n}$, and returns the permutation matrix $P$, upper triangular matrix $U$ and lower triangular matrix $L$ such that $PA = UL$. (*this is not a typo*)\n",
        "\n",
        "> Indented block\n",
        "\n"
      ]
    },
    {
      "cell_type": "code",
      "execution_count": 5,
      "id": "801cad2c",
      "metadata": {
        "id": "801cad2c"
      },
      "outputs": [],
      "source": [
        "### PA=UL factorization\n",
        "### def myUL(A):\n",
        "import numpy as np\n",
        "\n",
        "def myUL(A):\n",
        "    n = A.shape[0]   # get the size of matrix A\n",
        "    L = np.eye(n)    # initialize L as identity matrix\n",
        "    U = A.copy()     # copy A into U\n",
        "    P = np.eye(n)    # initialize P as identity matrix\n",
        "    \n",
        "    for j in range(n):\n",
        "        # partial pivoting\n",
        "        row = np.argmax(np.abs(U[j:, j])) + j\n",
        "        if row != j:\n",
        "            U[[j, row], :] = U[[row, j], :]\n",
        "            P[[j, row], :] = P[[row, j], :]\n",
        "            if j >= 1:\n",
        "                L[[j, row], :j] = L[[row, j], :j]\n",
        "        \n",
        "        # elimination\n",
        "        for i in range(j+1, n):\n",
        "            L[i, j] = U[i, j] / U[j, j]\n",
        "            U[i, :] = U[i, :] - L[i, j] * U[j, :]\n",
        "    \n",
        "    return P, L, U\n"
      ]
    },
    {
      "cell_type": "markdown",
      "id": "9f415543",
      "metadata": {
        "id": "9f415543"
      },
      "source": [
        "### Q.1(a) Print examples of matrices A with matrices P,L and U such that PA = UL, with a verification for PA=UL."
      ]
    },
    {
      "cell_type": "code",
      "execution_count": 29,
      "id": "cba83895",
      "metadata": {
        "colab": {
          "base_uri": "https://localhost:8080/"
        },
        "id": "cba83895",
        "outputId": "b36b75b4-4018-4b18-8717-c9ae5dc8ab61"
      },
      "outputs": [
        {
          "name": "stdout",
          "output_type": "stream",
          "text": [
            "Permutation matrix P:\n",
            "[[0. 1. 0.]\n",
            " [1. 0. 0.]\n",
            " [0. 0. 1.]]\n",
            "\n",
            "Lower triangular matrix L:\n",
            "[[1.         0.         0.        ]\n",
            " [0.66666667 1.         0.        ]\n",
            " [0.33333333 0.         1.        ]]\n",
            "\n",
            "Upper triangular matrix U:\n",
            "[[ 6  3  4]\n",
            " [ 0  1 -1]\n",
            " [ 0  0  6]]\n",
            "\n",
            "PA - UL =\n",
            "[[-3.33333333  0.          0.        ]\n",
            " [ 3.66666667  2.          2.        ]\n",
            " [ 0.          1.          2.        ]]\n"
          ]
        }
      ],
      "source": [
        "### Examples of A and factors P,U,L.\n",
        "\n",
        "A = np.array([[4, 3, 1], [6, 3, 4], [2, 1, 8]])\n",
        "# A = np.array([[5, 3, 1], \n",
        "#               [3, 3, 1], \n",
        "#               [1, 1, 1]])\n",
        "\n",
        "\n",
        "# Perform LU decomposition with partial pivoting\n",
        "P, L, U = myUL(A)\n",
        "\n",
        "# Print the permutation matrix P\n",
        "print(\"Permutation matrix P:\")\n",
        "print(P)\n",
        "\n",
        "# Print the lower triangular matrix L\n",
        "print(\"\\nLower triangular matrix L:\")\n",
        "print(L)\n",
        "\n",
        "# Print the upper triangular matrix U\n",
        "print(\"\\nUpper triangular matrix U:\")\n",
        "print(U)\n",
        "\n",
        "# Verify that PA = UL\n",
        "print(\"\\nPA - UL =\")\n",
        "print(np.matmul(P, A) - np.matmul(U, L))\n",
        "\n",
        "\n"
      ]
    },
    {
      "cell_type": "markdown",
      "id": "1a180b7b",
      "metadata": {
        "id": "1a180b7b"
      },
      "source": [
        "***\n",
        "### Q.2 Let us now use the above PA=UL factorization to compute inverse of a given matrix. Write a function `mymatinverse` that takes in a matrix $A \\in \\mathbb{R}^{n\\times n}$ uses the above function to obtain the factorization: $PA = UL$, and find whether the matrix $A$ is invertible or not, and if it is, it should return the inverse computed by back/forward substitution."
      ]
    },
    {
      "cell_type": "code",
      "execution_count": 27,
      "id": "fa111cf9",
      "metadata": {
        "id": "fa111cf9"
      },
      "outputs": [],
      "source": [
        "### Compute Inverse of Matrix using UL decomposition and back/forward substitution\n",
        "### def mymatinverse(A):\n",
        "\n",
        "\n",
        "def myInverse(A):\n",
        "    P, L, U = myUL(A)#taking the P,L and U found from the previous function\n",
        "    n = A.shape[0] #we initialize all the matrices as zero matrices \n",
        "    U_inverse = np.zeros((n, n))\n",
        "    L_inverse = np.zeros((n, n))\n",
        "    A_inverse = np.zeros((n, n))\n",
        "    \n",
        "    \n",
        "    # Compute inverse of U\n",
        "    for i in range(n-1, -1, -1):\n",
        "        U_inverse[i,i] = 1.0 / U[i,i]\n",
        "        for j in range(i):\n",
        "            s = sum(U[j,k]*U_inverse[k,i] for k in range(j+1, n))\n",
        "            U_inverse[j,i] = -s / U[j,j]\n",
        "    \n",
        "    # Compute inverse of L\n",
        "    for i in range(n):\n",
        "        L_inverse[i,i] = 1.0 / L[i,i]\n",
        "        for j in range(i+1, n):\n",
        "            s = sum(L[j,k]*L_inverse[k,i] for k in range(j))\n",
        "            L_inverse[j,i] = -s / L[j,j]\n",
        "    \n",
        "    # Compute inverse of A\n",
        "    A_inverse = np.dot(L_inverse, U_inverse)\n",
        "    A_inverse = np.dot(A_inverse, P)\n",
        "    \n",
        "    return A_inverse\n",
        "\n",
        "\n",
        "\n"
      ]
    },
    {
      "cell_type": "markdown",
      "id": "9a8afe5b",
      "metadata": {
        "id": "9a8afe5b"
      },
      "source": [
        "### Q.2(a) Print a few examples of matrices $A$ and their inverses, and verify the correctness of the inverse by computing $A\\cdot A^{-1}$"
      ]
    },
    {
      "cell_type": "code",
      "execution_count": 28,
      "id": "dbb24b88",
      "metadata": {
        "colab": {
          "base_uri": "https://localhost:8080/"
        },
        "id": "dbb24b88",
        "outputId": "81f38f86-2af1-4ac8-b5dc-a9e7ba3e8f63"
      },
      "outputs": [
        {
          "name": "stdout",
          "output_type": "stream",
          "text": [
            "[[nan nan nan]\n",
            " [nan nan nan]\n",
            " [nan nan nan]]\n",
            "[[nan nan nan]\n",
            " [nan nan nan]\n",
            " [nan nan nan]]\n"
          ]
        },
        {
          "name": "stderr",
          "output_type": "stream",
          "text": [
            "<ipython-input-27-7659663bfd49>:15: RuntimeWarning: divide by zero encountered in true_divide\n",
            "  U_inverse[i,i] = 1.0 / U[i,i]\n",
            "<ipython-input-27-7659663bfd49>:17: RuntimeWarning: invalid value encountered in multiply\n",
            "  s = sum(U[j,k]*U_inverse[k,i] for k in range(j+1, n))\n"
          ]
        }
      ],
      "source": [
        "### Examples of A and A^{-1}\n",
        "\n",
        "\n",
        "\n",
        "# A = np.array([[-1,0,3],[-2,-2,7],[-5,0,20]])\n",
        "# A = np.array([[1,-4],[3,5]]) \n",
        "A = np.array([[5, 3, 1], \n",
        "              [3, 3, 1], \n",
        "              [1, 1, 1]])\n",
        "P, L, U = myUL(A)\n",
        "A_inverse = myInverse(A)\n",
        "print(A_inverse)\n",
        "print(np.matmul(A,A_inverse)) # compute the product between the two matrices. It will return Identity matrix I if the inverse is correct.\n",
        "\n",
        "\n"
      ]
    },
    {
      "cell_type": "markdown",
      "id": "8cf08f91",
      "metadata": {
        "id": "8cf08f91"
      },
      "source": [
        "### Q.3 Using the above function to compute inverse of a matrix, draw a closed cubic spline curve through points given by the user, as implemented in the previous lab."
      ]
    },
    {
      "cell_type": "code",
      "execution_count": 32,
      "id": "yyeIZJTRwTpL",
      "metadata": {
        "id": "yyeIZJTRwTpL"
      },
      "outputs": [],
      "source": [
        "\n",
        "def find_next_indexes(x, array):\n",
        "    nxt_small = None\n",
        "    nxt_big = None\n",
        "    for i in range(len(array)):\n",
        "        if array[i] < x:\n",
        "            if nxt_small is None or array[i] > array[nxt_small]:\n",
        "                nxt_small = i\n",
        "        elif array[i] > x:\n",
        "            if nxt_big is None or array[i] <= array[nxt_big]:\n",
        "                nxt_big = i\n",
        "    if nxt_small == None:\n",
        "        nxt_small = 0\n",
        "    \n",
        "    return nxt_small, nxt_big"
      ]
    },
    {
      "cell_type": "code",
      "execution_count": 33,
      "id": "AnQhIXbmwdlk",
      "metadata": {
        "id": "AnQhIXbmwdlk"
      },
      "outputs": [],
      "source": [
        "# Functions that Evaluate the S(x) = P(x)_i , where i=0, 1, 2, .., n-1\n",
        "def evaluate(val, coeff, data_points):\n",
        "    p, p1 = find_next_indexes(val,data_points)#finding the next indices for the data points\n",
        "    polynomial = coeff[p,:] # function that returns you the coefficients of the for the P(x)_i for a given value of x\n",
        "    eval = (polynomial[0] + (polynomial[1] * val) + (polynomial[2] * (val**2)) + (polynomial[3] * (val**3)))    \n",
        "    return eval"
      ]
    },
    {
      "cell_type": "code",
      "execution_count": 34,
      "id": "533a2dbf",
      "metadata": {
        "colab": {
          "base_uri": "https://localhost:8080/",
          "height": 472
        },
        "id": "533a2dbf",
        "outputId": "aaa3cf93-e81a-401d-db11-09ee3c47a34a"
      },
      "outputs": [
        {
          "data": {
            "image/png": "[encoded data removed]",
            "text/plain": [
              "<Figure size 640x480 with 1 Axes>"
            ]
          },
          "metadata": {},
          "output_type": "display_data"
        }
      ],
      "source": [
        "### def mycubicsplineclosedcurve(x,y):\n",
        "\n",
        "### Planar Closed Cubic Spline curve\n",
        "### def mycubicclosedcurve(x,y):\n",
        "def mycubicclosedcurve(x, y, n): #n being the number of data points\n",
        "    matrix = np.zeros((4*n,4*n))\n",
        "    y_finish = [] #taking as an empty array \n",
        "    for i in range(n):\n",
        "        block_matrix = []\n",
        "        x_p = x[i]\n",
        "        x_p1 = x[i+1]\n",
        "        y_finish = np.append(y_finish, [y[i], y[i+1], 0, 0])\n",
        "\n",
        "        r1 = np.array([1, x_p, x_p**2, x_p**3, 0, 0, 0,0]) # n x 8 \n",
        "        r2 = np.array([1, x_p1, x_p1**2, x_p1**3, 0, 0, 0,0]) # n x 8\n",
        "        if(i != n-1):\n",
        "            r3 = np.array([0, 1, 2*x_p1, 3*(x_p1**2), 0, -1, -2*x_p1, -3*(x_p1**2) ]) # n-1 x 8 \n",
        "            r4 = np.array([0, 0, 2, 6*x_p1, 0, 0, -2, -6*x_p1 ]) # n-1 x 8\n",
        "\n",
        "            block_matrix = np.vstack((r1, r2, r3, r4))\n",
        "            matrix[4*i:4*i+4,4*i:4*i+8] = block_matrix\n",
        "        else :\n",
        "            r1 = r1[:4]\n",
        "            r2 = r2[:4]\n",
        "            block_matrix = np.vstack((r1, r2))\n",
        "            matrix[4*i:4*i+2,4*i:4*i+4] = block_matrix \n",
        "\n",
        "    matrix[4*n-2:4*n-1,0:4] = np.array([0, 1, 2*x[0], 3*(x[0]**2)])\n",
        "    matrix[4*n-2:4*n-1,4*n-4:4*n] = np.array([0, -1, -2*x[len(x) - 1], -3*(x[len(x) - 1]**2)])\n",
        "\n",
        "  \n",
        "    matrix[4*n-1:4*n,0:4] = np.array([0, 0, 2, 6*x[0] ])\n",
        "    matrix[4*n-1:4*n,4*n-4:4*n] = np.array([0, 0, -2, -6*x[len(x) - 1]])\n",
        "\n",
        "\n",
        "    y_finish = np.reshape(y_finish, (4*n,1))\n",
        "\n",
        "    coefficients = np.linalg.solve(matrix, y_finish)\n",
        "    coefficients_eval = np.reshape(coefficients, (len(x) - 1,4))\n",
        "    return coefficients_eval\n",
        "\n",
        "\n",
        "x = [1,2,3,5,7,1]\n",
        "y = [0,2,4,6,8,0]\n",
        "n = len(x)\n",
        "o = np.linspace(-1, 1, len(x))\n",
        "\n",
        "# \n",
        "v_x = mycubicclosedcurve(o, x, n-1)\n",
        "v_y = mycubicclosedcurve(o, y, n-1)\n",
        "v_x = np.reshape(v_x, (n - 1, 4))\n",
        "v_y = np.reshape(v_y, (n - 1, 4))\n",
        "\n",
        "\n",
        "points = np.linspace(-1, 1, 1000)\n",
        "lst1 = []\n",
        "lst2 = []\n",
        "#taking two empty lists\n",
        "for i in range(len(points)):\n",
        "    lst1 = np.append(lst1, evaluate(points[i], v_x, o))\n",
        "    lst2 = np.append(lst2, evaluate(points[i], v_y, o))\n",
        "\n",
        "plt.plot(x, y,'go', label=\"The Given points\")\n",
        "plt.plot(lst1, lst2, color='y', label=\"The Closed Curve\")\n",
        "plt.xlabel(\"x(t)\")\n",
        "plt.ylabel(\"y(t)\")\n",
        "plt.title(\"Cubic closed curve\")\n",
        "plt.legend()\n",
        "plt.grid()\n",
        "plt.show()\n",
        "\n",
        "\n",
        "\n",
        "\n"
      ]
    },
    {
      "cell_type": "markdown",
      "id": "5d98271d",
      "metadata": {
        "id": "5d98271d"
      },
      "source": [
        "### Q.3(a) Show some examples of closed spline curves passing through user given points."
      ]
    },
    {
      "cell_type": "code",
      "execution_count": null,
      "id": "4a7b7f18",
      "metadata": {
        "id": "4a7b7f18"
      },
      "outputs": [],
      "source": [
        "### Examples of splines\n",
        "\n",
        "\n",
        "\n"
      ]
    }
  ],
  "metadata": {
    "colab": {
      "provenance": []
    },
    "kernelspec": {
      "display_name": "Python 3",
      "language": "python",
      "name": "python3"
    },
    "language_info": {
      "codemirror_mode": {
        "name": "ipython",
        "version": 3
      },
      "file_extension": ".py",
      "mimetype": "text/x-python",
      "name": "python",
      "nbconvert_exporter": "python",
      "pygments_lexer": "ipython3",
      "version": "3.8.8"
    },
    "varInspector": {
      "cols": {
        "lenName": 16,
        "lenType": 16,
        "lenVar": 40
      },
      "kernels_config": {
        "python": {
          "delete_cmd_postfix": "",
          "delete_cmd_prefix": "del ",
          "library": "var_list.py",
          "varRefreshCmd": "print(var_dic_list())"
        },
        "r": {
          "delete_cmd_postfix": ") ",
          "delete_cmd_prefix": "rm(",
          "library": "var_list.r",
          "varRefreshCmd": "cat(var_dic_list()) "
        }
      },
      "types_to_exclude": [
        "module",
        "function",
        "builtin_function_or_method",
        "instance",
        "_Feature"
      ],
      "window_display": false
    }
  },
  "nbformat": 4,
  "nbformat_minor": 5
}
