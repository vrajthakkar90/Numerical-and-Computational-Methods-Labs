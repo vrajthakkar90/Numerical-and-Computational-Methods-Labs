{
 "cells": [
  {
   "cell_type": "markdown",
   "id": "02f30203",
   "metadata": {},
   "source": [
    "# Lab 4 - Polynomial Interpolation (Lagrange and Newton)\n",
    "## February 20 - February 22, 2023\n",
    "## Student 1 Name: Aditya Tanna Student 1 ID No. 202103023\n",
    "## Student 2 Name: Kanishk Dad Student 2 ID No. 202103005\n",
    "## Student 3 Name: Vraj Thakkar Student 3 ID No. 202103053\n",
    "## Date of Submission: 22/02/2023\n",
    "***"
   ]
  },
  {
   "cell_type": "code",
   "execution_count": 221,
   "id": "80cd8e82",
   "metadata": {},
   "outputs": [],
   "source": [
    "# import useful libraries\n",
    "import numpy as np\n",
    "import matplotlib.pyplot as plt\n",
    "import math\n",
    "import sympy as smp"
   ]
  },
  {
   "cell_type": "markdown",
   "id": "90c5afe0",
   "metadata": {},
   "source": [
    "### Q.1 Write a function `mypolyint` that takes in a $n \\times 2$ matrix whose row $i$ contains points $(x_i,y_i)$, and returns coefficients of the polynomial that interpolates the given points, using Lagrange's interpolation. Your function should also plot the graph of the function showing that it does interpolate the given set of points."
   ]
  },
  {
   "cell_type": "code",
   "execution_count": 234,
   "id": "801cad2c",
   "metadata": {},
   "outputs": [],
   "source": [
    "def mypolyint(points):\n",
    "    n = len(points)\n",
    "    x = points[:,0]\n",
    "    y = points[:,1]\n",
    "    coefficients = np.zeros(n) #making an array of size n full of zeros \n",
    "    for i in range(n):\n",
    "        numerator = np.poly1d([1]) #defining a polynomial of degree one\n",
    "        denominator = 1 #initializing as one and then updating the value according to our convenience \n",
    "        for j in range(n):\n",
    "            if i != j: #condition for lagrange's interpolation\n",
    "                numerator *= np.poly1d([1, -x[j]])\n",
    "                denominator *= (x[i] - x[j])\n",
    "        coefficients += y[i] * (numerator / denominator)\n",
    "    p = np.poly1d(coefficients) #defining the polynomial function for the coefficients that we get from the Lagrange's interpolation method\n",
    "    plt.plot(x, y, 'o', label='Given data points')\n",
    "    xp = np.linspace(min(x), max(x), 1000) #taking between the minimum and maximum of x\n",
    "    plt.plot(xp, p(xp), label='Interpolated function')\n",
    "    plt.legend()\n",
    "    plt.grid() #using a grid to better visualise the graph\n",
    "    plt.show()\n",
    "    return np.flip(coefficients)  #reversing the array of the coefficients\n",
    "   "
   ]
  },
  {
   "cell_type": "markdown",
   "id": "a9638eb8",
   "metadata": {},
   "source": [
    "### Q.1(a) Show a few example plots of points $(x_i,y_i),i=1,\\ldots,n$ and the interpolating polynomial graph passing through the given points, below"
   ]
  },
  {
   "cell_type": "code",
   "execution_count": 235,
   "id": "cba83895",
   "metadata": {},
   "outputs": [
    {
     "data": {
      "image/png": "[encoded data removed]",
      "text/plain": [
       "<Figure size 432x288 with 1 Axes>"
      ]
     },
     "metadata": {
      "needs_background": "light"
     },
     "output_type": "display_data"
    },
    {
     "name": "stdout",
     "output_type": "stream",
     "text": [
      "[ 3.16 -2.88  0.96]\n"
     ]
    }
   ],
   "source": [
    "### Generate examples of (x_i,y_i) and plot these points along with values of the interpolating polynomials at \n",
    "### these (and several intermediate points).\n",
    "points = np.array([[-1,7],[1.5,1],[4,7]])\n",
    "coeffs = mypolyint(points)\n",
    "print(coeffs)\n"
   ]
  },
  {
   "cell_type": "markdown",
   "id": "1a180b7b",
   "metadata": {},
   "source": [
    "***\n",
    "### Q.2: Write a function `mynewtonint` that takes in an $n \\times 2$ matrix whose row $i$ contains points $(x_i,y_i)$, and returns coefficient vector of the Newton's polynomial that interpolates the given points. Your function should also plot the graph of the polynomial (at given and several intermediate points) showing that it does interpolate the given set of points.\n"
   ]
  },
  {
   "cell_type": "code",
   "execution_count": 238,
   "id": "929a7508",
   "metadata": {
    "scrolled": true
   },
   "outputs": [
    {
     "name": "stdout",
     "output_type": "stream",
     "text": [
      "[ 1.50000000e+01  2.90000000e+01 -3.30000000e+01  9.26666667e+00\n",
      " -2.10833333e+00  8.92857143e-02  6.36408730e-02 -2.45535714e-02\n",
      "  3.01173942e-02  1.67465829e-02]\n"
     ]
    },
    {
     "data": {
      "image/png": "[encoded data removed]",
      "text/plain": [
       "<Figure size 432x288 with 1 Axes>"
      ]
     },
     "metadata": {
      "needs_background": "light"
     },
     "output_type": "display_data"
    }
   ],
   "source": [
    "x = [0,1,2,5,4,7,8,9,6,3]\n",
    "y = [15,44,7,56,8,5,4,8,9,6]\n",
    "\n",
    "z = smp.symbols(\"z\")\n",
    "n= len(x)-1\n",
    "\n",
    "a = [y[0]]\n",
    "a_1 = (y[0] - y[1])/(x[0] - x[1])\n",
    "a = np.append(a,a_1)\n",
    "\n",
    "def x_conti(n, i):\n",
    "    term = 1\n",
    "    for j in range(i):\n",
    "        term = term*( x[n] - x[j])\n",
    "\n",
    "    return term\n",
    "\n",
    "\n",
    "def kanishk(n,A):\n",
    "    p_x = 0\n",
    "    for i in range(A):\n",
    "        p_x += a[i]*(x_conti(n,i))\n",
    "    return p_x\n",
    "    \n",
    "\n",
    "for i in range(n+1):\n",
    "    if i < 2:\n",
    "        continue\n",
    "    a_i = (y[i] - kanishk(i,i))/(x_conti(i,i))\n",
    "    a = np.append(a,a_i)\n",
    "\n",
    "print (a)\n",
    "\n",
    "n = n+1\n",
    "def variable(z):\n",
    "    \n",
    "    ans= 0\n",
    "    # array_of_x_variables = []\n",
    "    for k in range(n):\n",
    "        last = 1\n",
    "    \n",
    "        for i in range(k):\n",
    "            \n",
    "            last = last*(z-x[i])\n",
    "            # print(last)\n",
    "            #array_of_x_variables= np.append(array_of_x_variables,last)\n",
    "        ans += a[k]*last\n",
    "    return ans\n",
    "\n",
    "\n",
    "\n",
    "x_new = np.arange(0, 9, .01)\n",
    "y_new = variable(x_new)\n",
    "\n",
    "\n",
    "plt.plot(x,y,'bo')\n",
    "plt.plot(x_new,y_new)\n",
    "plt.show()\n"
   ]
  },
  {
   "cell_type": "markdown",
   "id": "36a90064",
   "metadata": {},
   "source": [
    "### Q.2(a) Show a few example plots of points $(x_i,y_i),i=1,\\ldots,n$ and the interpolating polynomial graph passing through the given points, below\n"
   ]
  },
  {
   "cell_type": "code",
   "execution_count": 239,
   "id": "604806df",
   "metadata": {},
   "outputs": [],
   "source": [
    "### Write your examples for Q.2 here.\n",
    "## the example points for x and y are given below\n",
    "\n",
    "x = [0,-1,1,2,6,7]\n",
    "y = [1,2,3,4,5,6]\n",
    "\n",
    "\n"
   ]
  },
  {
   "cell_type": "markdown",
   "id": "01d2f7c7",
   "metadata": {},
   "source": [
    "***\n",
    "### Q.3 For the function $f(x) = \\sqrt{x}$, let $f_n(x)$ denote the Newton's polynomial constructed by interpolating $n+1$ equi-spaced sampled points from the interval $[0,4]$. Plot the functions $f,f_2,f_4,f_8,f_{16},f_{32}$, and in another figure plot the error function $e(x) = f(x)-f_n(x)$ by sampling the error function on $1000$ equi-spaced points in the interval $[0,4]$. Find the maximum error $E_n = \\max_{1\\leq k \\leq 1000} \\{|f(x_k) - f_n(x_k)|\\}$, and plot it with respect to $n$. Record your observations.\n"
   ]
  },
  {
   "cell_type": "code",
   "execution_count": 241,
   "id": "55154036",
   "metadata": {},
   "outputs": [
    {
     "name": "stdout",
     "output_type": "stream",
     "text": [
      "32\n",
      "[ 0.00000000e+00 -0.00000000e+00  1.18481605e+01 -5.16687935e+01\n",
      "  1.39455876e+02 -2.79214309e+02  4.47106471e+02 -5.97875480e+02\n",
      "  6.86982665e+02 -6.92335423e+02  6.21514870e+02 -5.03072128e+02\n",
      "  3.70777179e+02 -2.50849693e+02  1.56849023e+02 -9.11654859e+01\n",
      "  4.95024023e+01 -2.52207184e+01  1.21027568e+01 -5.48881260e+00\n",
      "  2.35968025e+00 -9.64246570e-01  3.75446833e-01 -1.39604989e-01\n",
      "  4.96737440e-02 -1.69446571e-02  5.55083849e-03 -1.74897436e-03\n",
      "  5.30795105e-04 -1.55360874e-04  4.39022315e-05 -1.19853399e-05\n",
      "  3.16031971e-06]\n"
     ]
    },
    {
     "data": {
      "image/png": "[encoded data removed]",
      "text/plain": [
       "<Figure size 432x288 with 1 Axes>"
      ]
     },
     "metadata": {
      "needs_background": "light"
     },
     "output_type": "display_data"
    }
   ],
   "source": [
    "## Write your code for Q.3 here\n",
    "\n",
    "# kindly enter different values i.e. 2 , 4 , 8 , 16 , 32 and the graph that returns are of squareroot, newton polynomial, and error.\n",
    "\n",
    "n = int(input())\n",
    "\n",
    "xs = np.linspace(0,4,400)\n",
    "ys = [np.sqrt(x) for x in xs]\n",
    "plt.plot(xs,ys,'g',label ='sqrt graph')\n",
    "\n",
    "def function_x_points(n):\n",
    "   a = 4/(n+1)\n",
    "   x_points = 0\n",
    "   x = [0]\n",
    "   for i in range(n):\n",
    "\n",
    "    x_points = x_points + a\n",
    "    x = np.append(x, x_points)\n",
    "   y=[0]\n",
    "   for i in range(len(x)):\n",
    "    y_points = math.sqrt(x[i])\n",
    "    y = np.append(y, y_points)\n",
    "\n",
    "   return x,y\n",
    "\n",
    "x,y = function_x_points(n)\n",
    "\n",
    "\n",
    "# import useful libraries\n",
    "# x = [0, 2,-4,1,-1]\n",
    "# y = [-7,1,2,-8,-8]\n",
    "\n",
    "\n",
    "z = smp.symbols(\"z\")\n",
    "n = len(x)-1\n",
    "\n",
    "a = [y[0]]\n",
    "a_1 = (y[0] - y[1])/(x[0] - x[1])\n",
    "a = np.append(a, a_1)\n",
    "\n",
    "\n",
    "def x_conti(n, i):\n",
    "    term = 1\n",
    "    for j in range(i):\n",
    "        term = term*(x[n] - x[j])\n",
    "\n",
    "    return term\n",
    "\n",
    "\n",
    "def kanishk(n, A):\n",
    "    p_x = 0\n",
    "    for i in range(A):\n",
    "        p_x += a[i]*(x_conti(n, i))\n",
    "    return p_x\n",
    "\n",
    "\n",
    "for i in range(n+1):\n",
    "    if i < 2:\n",
    "        continue\n",
    "    a_i = (y[i] - kanishk(i, i))/(x_conti(i, i))\n",
    "    a = np.append(a, a_i)\n",
    "\n",
    "print(a)\n",
    "\n",
    "n = n+1\n",
    "def variable(z):\n",
    "\n",
    "    ans = 0\n",
    "    # array_of_x_variables = []\n",
    "    for k in range(n):\n",
    "        last = 1\n",
    "        for i in range(k):\n",
    "            last = last*(z-x[i])\n",
    "            # print(last)\n",
    "            # array_of_x_variables= np.append(array_of_x_variables,last)\n",
    "        ans += a[k]*last\n",
    "    return ans\n",
    "\n",
    "# o = variable(float(7))\n",
    "# print(o)\n",
    "x_new = np.arange(0,4, .01)\n",
    "y_new = variable(x_new)\n",
    "\n",
    "plt.plot(x_new, y_new, label = \"newton's method\")\n",
    "v = y_new - ys\n",
    "plt.plot(xs, v, 'b', label = \"error\")\n",
    "plt.legend()\n",
    "plt.show()\n",
    "\n",
    "\n"
   ]
  },
  {
   "cell_type": "markdown",
   "id": "a4bf4bbb",
   "metadata": {},
   "source": [
    "### <font color=\"red\"> Ans 3. Write your observations here <font>\n",
    "<font color=\"black\"> For f_2 the grph is similar to quadratic but the errror is maximum inn range 1 to 2 and also o at some point between 3 to 3.5.\n",
    "<font color=\"black\"> For f_4 the graph is very much different than the graph of squareroot and error is maximum between 0 to 1.\n",
    "<font color=\"black\"> For f_8 error is maximum between 0 to 0.5.and graph is similar to root afterwards.\n",
    "<font color=\"black\"> For f_16 error is maximum between 0 to 0.5.and graph is similar to root afterwards.similar for f_32.\n",
    "\n"
   ]
  }
 ],
 "metadata": {
  "kernelspec": {
   "display_name": "Python 3",
   "language": "python",
   "name": "python3"
  },
  "language_info": {
   "codemirror_mode": {
    "name": "ipython",
    "version": 3
   },
   "file_extension": ".py",
   "mimetype": "text/x-python",
   "name": "python",
   "nbconvert_exporter": "python",
   "pygments_lexer": "ipython3",
   "version": "3.8.8"
  },
  "varInspector": {
   "cols": {
    "lenName": 16,
    "lenType": 16,
    "lenVar": 40
   },
   "kernels_config": {
    "python": {
     "delete_cmd_postfix": "",
     "delete_cmd_prefix": "del ",
     "library": "var_list.py",
     "varRefreshCmd": "print(var_dic_list())"
    },
    "r": {
     "delete_cmd_postfix": ") ",
     "delete_cmd_prefix": "rm(",
     "library": "var_list.r",
     "varRefreshCmd": "cat(var_dic_list()) "
    }
   },
   "types_to_exclude": [
    "module",
    "function",
    "builtin_function_or_method",
    "instance",
    "_Feature"
   ],
   "window_display": false
  }
 },
 "nbformat": 4,
 "nbformat_minor": 5
}
